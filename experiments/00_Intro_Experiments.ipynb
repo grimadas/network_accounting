{
 "cells": [
  {
   "cell_type": "markdown",
   "metadata": {},
   "source": [
    "# Towards engineering of reciprocal systems \n",
    "\n",
    "In this notebook we introduce the accounting mechanism and its use in reputation and trust systems.\n",
    "\n",
    "The reptuation algorithm is used here in a specific context: \n",
    " - We assume an *accounting mechansim*: it guarantees discovery, convergence of information, and protects from peer slandering: misinformation on the data accounted about one node. The event is correctly recorded in the ledger, with help of two signatures from the peers.       \n",
    " - Reputation is build on a work graph: a directed weighted graph of agents interactions. An edge in a graph is a instance of interaction. The authecthicity of interation can be verified via cryptographic signatures. \n",
    " - The work graph is kept updated with every new iteration. Each new iteration updates the value of the interaction. \n",
    "\n",
    "\n",
    "### Test workload: model of the work graph\n",
    "\n",
    "The interaction between the agents is modeled as a directed weighted graph. We assume an arbitary model of interaction (random graph model). We test againts the following models:\n",
    "1. Power law distribution: Bittorent data distriubtion, Bitcoin transaction graph\n",
    "2. Random, uniform: relay nodes \n",
    "\n",
    " \n",
    "## 1. Trust Functions comparison\n",
    "\n",
    "Each trust algorithm will be analyzed by these two parameters: \n",
    "\n",
    "1. *Informativeness* - how good can the algorithms do 2 tasks: **filtering** (identifing cheaters/freeriders etc.) and **ranking** (choosing top K).\n",
    "2. *Robustness* - how can trust algorithm resists attacks and manipulation of the algorithms. Specifically, the attacks that manipulate the scores by creating fake connections and nodes. \n",
    "\n",
    "## 2. Information exchange and Incomplete knowledge\n",
    "\n",
    "Each agent acts only according to known information. The information is not guaranteed to be complete. Agents periodcially exchange information with each other.\n",
    "\n",
    "We show how partial knowledge affects the informativeness and robustness of the reputation and trust algorithms.\n",
    "1. How the reputation algorithms properties change with partial knowledge? \n",
    "2. What is the minimal required information to have a useful reputation algorithm.\n",
    "\n",
    "\n",
    "### Information distribution \n",
    "\n",
    "The information exchange is modeled as a random process. With respect to the information exchange we propose three schemes: \n",
    "1. Structured overlay: DHT-like distribution of data.\n",
    "2. Unstructured overlay: gossip-like distribution of data.\n",
    "3. Full broadcast with periodical partitioning. \n",
    "\n",
    "## Applications and Use Cases \n",
    "\n",
    "1. Peer-to-peer resource sharing. The agent question is: who must I serve the first? \n",
    "When there is no competition and the resource can be provided easily - share it any peer. \n",
    "If there are multiple peers and they cannot be served without a loss in quality - the agent must decide who to serve.\n",
    "   + Option 1: serve the agent with best indirect reciprocity potential. Estimate the social capital of the peer and the price of payment for the requested resources. *How much can I get If I will have a edge with you?* Agents try to maximize the value of their useful social capital.\n",
    "   + Option 2: Increase own potential and attractiveness. Serve to pay off with direct reciprocity. This will significantly imporve the \"credit score\" of the node. Agents try to minimize the credit risk and improve their score. \n",
    "2. Federated ml .\n",
    "Improve the quality of the model by sharing the model with other peers and estimating the quality of each other. \n",
    "3. File/Content sharing network. \n",
    "Peers anounce IWANT and IHAVE blocks to the network. The nodes later naturally cluster each other to optimize the exchange of the blocks. \n",
    "\n"
   ]
  },
  {
   "cell_type": "markdown",
   "metadata": {},
   "source": [
    "## Input: Generate work graph\n",
    "\n",
    "\n",
    "Work graph (aka contribution graph) is a network of contribution (who to who, peer-to-peer).\n",
    "We consider two work graph generators: \n",
    " - ``wg_pl``:  Power-Law, for example bittorrent content, wikipedia pages, etc. \n",
    " - ``wg_wf``: Uniform, random - relaying information\n"
   ]
  },
  {
   "cell_type": "code",
   "execution_count": 2,
   "metadata": {},
   "outputs": [],
   "source": [
    "from common import draw_distribution, generate_work_graph_power_law, generate_work_graph_uniform"
   ]
  },
  {
   "cell_type": "code",
   "execution_count": 3,
   "metadata": {},
   "outputs": [],
   "source": [
    "N = 100 # number of peers \n",
    "\n",
    "wg_pl = generate_work_graph_power_law(N)\n",
    "wg_uf = generate_work_graph_uniform(N)"
   ]
  },
  {
   "cell_type": "code",
   "execution_count": 4,
   "metadata": {},
   "outputs": [
    {
     "name": "stdout",
     "output_type": "stream",
     "text": [
      "251.01359999999994 2.0\n"
     ]
    },
    {
     "data": {
      "image/png": "[encoded data removed]",
      "text/plain": [
       "<Figure size 432x288 with 1 Axes>"
      ]
     },
     "metadata": {
      "needs_background": "light"
     },
     "output_type": "display_data"
    }
   ],
   "source": [
    "draw_distribution(list(dict(wg_pl.in_degree(weight='weight')).values()))"
   ]
  },
  {
   "cell_type": "code",
   "execution_count": 5,
   "metadata": {},
   "outputs": [
    {
     "name": "stdout",
     "output_type": "stream",
     "text": [
      "42.073599999999985 4.0\n"
     ]
    },
    {
     "data": {
      "image/png": "[encoded data removed]",
      "text/plain": [
       "<Figure size 432x288 with 1 Axes>"
      ]
     },
     "metadata": {
      "needs_background": "light"
     },
     "output_type": "display_data"
    }
   ],
   "source": [
    "draw_distribution(list(dict(wg_pl.out_degree(weight='weight')).values()))"
   ]
  },
  {
   "cell_type": "markdown",
   "metadata": {},
   "source": [
    "# Reputation function families \n",
    "\n",
    "We consider a specific subset of reputation algorithms that have the following properties: \n",
    "- Maps work graph structure to a score. The score can be ordered and every node ranked.\n",
    "- Can be subjective. Provide ranking from perspective of one node. \n",
    "- Works even with partial knowledge.\n",
    "- It works as an incentive to increase the contribution to the system. \n",
    "    - The nodes that contribute to the system are ranked the highest\n",
    "- Stranger rule and whitewashing: \n",
    "    - The nodes for which no information is available are not ranked. \n",
    "    - There are served using special rules. \n",
    "- Anti-Freerider rules: \n",
    "    - The nodes that only consume are ranked the lowest. \n",
    "    - The more you consume the lower you rank.   \n",
    "\n",
    "Now we need to identiy the families that satisfy the above properties.\n",
    "We start testing them starting from the most basic trust function to the more complex.\n",
    "\n",
    "Here is a list of functions we considered: \n",
    "\n",
    "0. Centrality-based\n",
    "  - Eccentricity: Max Shortest path between two nodes. V^{-1}\n",
    "  - Closeness: v = sum(d(u,v)), v^{-1}\n",
    "  - Betweenness \n",
    "  - Clustering coefficient: v = sum(d(u,v))/sum(d(v,w))\n",
    "  - Degree based \n",
    "  - Katz-Kernel I-tA\n",
    "  - EigenCentrality \n",
    "  - Bridging \n",
    "  - Decay\n",
    "  - Bonacich\n",
    "1. PageRank-based: \n",
    "  - Personalized \n",
    "  - Modified with upper bounds \n",
    "2. Hitting Time based\n",
    "  - Personalized \n",
    "  - Modified with upper bounds\n",
    "3. Flow-based\n",
    "  - Original Maxflow \n",
    "  - BarterCast  \n",
    "  - Modified Batercast \n",
    "  - Netflow\n",
    "\n"
   ]
  },
  {
   "cell_type": "markdown",
   "metadata": {},
   "source": [
    "\n",
    "# Understanding the Semantics and Choosing Parameters\n",
    "\n",
    "To choose the parameters and build a robust and informative reputation algorithm, we need to understand the semantics of the interaction and the work/trust graph.\n",
    "\n",
    "*Can we estimate the relative value trust connection? What about value of the nodes?*\n",
    "\n",
    "- Is the trust transitive or not? \n",
    "- How important is the direct reciprocity?\n",
    "\n",
    "The answer to that question depends on the system goals. \n",
    "\n",
    "**Case 1**. Direct connections are valued more than indirect connections.\n",
    "\n",
    "In a extreme case, the node interacts and estimates their direct connections, for example: \"Tit-for-tat\".\n",
    "\n",
    "Otherwise the indirect connections are values with respect to the direct connections.\n",
    "\n",
    "**Case 2**. Indirect connections are more/or as valuable as direct connections.\n",
    "\n",
    "In this case the nodes can create new connections to abuse and manipulate the system. \n",
    "\n",
    "\n",
    "### 1. Edge Semantics A -w-> B\n",
    "- Resources:  A thanks B for the provided resources with \"w\" units. (Tipping)\n",
    "- Federated Learning: Tipping for providing useful model, data etc. \n",
    "\n",
    "The weights of the edges can be update with the change in data or with the change in the model.\n",
    "\n",
    "### 2. The transitivity degradation \n",
    "\n",
    "The further the target node is from the ego center, the less valuble it is to the ego.\n",
    "Alternative formulation: The more risky the target node seems to the ego. \n",
    "\n",
    "The thanking and the tipping goes like a wave from the ego center to the target node.\n",
    "\n",
    "### 3. The punishing waves \n",
    "\n",
    "From the ego center the target node and its tranitive neighbors are punished.\n",
    "For only consuming the resources from the ego center.\n",
    "\n",
    "### 4. The \"stranger-danger\"  \n",
    "\n",
    "The nodes for which there is no information are served separately.\n",
    "Basic service is provided by the ego center to the nodes with no information.\n",
    "\n",
    "\n",
    "### 5. Personilization of request\n",
    "\n",
    "Each node can requst personalized service with *IWANT* anouncements.\n",
    "\n",
    "\n",
    "\n",
    "\n"
   ]
  },
  {
   "cell_type": "markdown",
   "metadata": {},
   "source": [
    "# Toy example\n",
    "\n",
    "To answer all the above questions let us consider a toy example."
   ]
  },
  {
   "cell_type": "code",
   "execution_count": 167,
   "metadata": {},
   "outputs": [],
   "source": [
    "import networkx as nx\n",
    "import matplotlib.pyplot as plt\n",
    "\n",
    "def draw_nx(G, figsize=(5,5), subtitle=None):\n",
    "    pos = nx.kamada_kawai_layout(G)\n",
    "    fig = plt.figure(figsize=figsize)\n",
    "    ax = fig.add_subplot(111)\n",
    "    if subtitle:\n",
    "        fig.suptitle(subtitle, fontweight =\"bold\")\n",
    "    ax.spines['top'].set_visible(False)\n",
    "    ax.spines['right'].set_visible(False)\n",
    "    ax.spines['bottom'].set_visible(False)\n",
    "    ax.spines['left'].set_visible(False)\n",
    "    nx.draw_networkx(G, with_labels=True, \n",
    "        #connectionstyle='arc3, rad = 0.1',\n",
    "        node_size=500, \n",
    "        label=15, \n",
    "        pos=pos,\n",
    "        node_shape='o',\n",
    "        width=1.5)\n",
    "    edgeLabels = nx.get_edge_attributes(G,'weight')\n",
    "    edgeLabels = {x:int(d) for x,d in edgeLabels.items()}\n",
    "    nx.draw_networkx_edge_labels(G, pos=pos, edge_labels=edgeLabels, label_pos=0.3, font_size=10);\n"
   ]
  },
  {
   "cell_type": "markdown",
   "metadata": {},
   "source": [
    "## Interation 1"
   ]
  },
  {
   "cell_type": "code",
   "execution_count": 168,
   "metadata": {},
   "outputs": [
    {
     "data": {
      "image/png": "[encoded data removed]",
      "text/plain": [
       "<Figure size 360x360 with 1 Axes>"
      ]
     },
     "metadata": {},
     "output_type": "display_data"
    }
   ],
   "source": [
    "\n",
    "G1 = nx.DiGraph()\n",
    "G1.add_edge(1,2, weight=1)\n",
    "draw_nx(G1, subtitle='Iteration 1: 1 IOU to 2')"
   ]
  },
  {
   "cell_type": "markdown",
   "metadata": {},
   "source": [
    "Let's view the trust graph from an eagle eye view. \n",
    "\n",
    "To understand it better consider trust network as a special form of a credit network. \n",
    "Each edge is a IOU (I owe you) relationship between nodes.\n",
    "\n",
    "For interation 1 we create the following conditions: \n",
    "- As a result of IOU the node 1 is ranked lower than node 2\n"
   ]
  },
  {
   "cell_type": "code",
   "execution_count": 187,
   "metadata": {},
   "outputs": [],
   "source": [
    "gt_g1 = lambda score: score(G1, 1) < score(G1, 2)"
   ]
  },
  {
   "cell_type": "markdown",
   "metadata": {},
   "source": [
    "## Iteration 2"
   ]
  },
  {
   "cell_type": "code",
   "execution_count": 176,
   "metadata": {},
   "outputs": [
    {
     "data": {
      "image/png": "[encoded data removed]",
      "text/plain": [
       "<Figure size 360x360 with 1 Axes>"
      ]
     },
     "metadata": {},
     "output_type": "display_data"
    }
   ],
   "source": [
    "# Interation 2: Direct reciprocity from node 1 - node serves the node 2 \n",
    "\n",
    "G2 = G1.copy()\n",
    "G2.add_edge(2,1, weight=2)\n",
    "\n",
    "draw_nx(G2, subtitle='Iteration 2: Direct reciprocty')"
   ]
  },
  {
   "cell_type": "markdown",
   "metadata": {},
   "source": [
    "Node 1 has payed the debt and even x2 of the debt."
   ]
  },
  {
   "cell_type": "code",
   "execution_count": 188,
   "metadata": {},
   "outputs": [],
   "source": [
    "gt_g2 = lambda score: score(G2, 1) >= score(G2, 2) and \\\n",
    "               score(G2, 1) > score(G1, 1) and \\\n",
    "               score(G2, 2) < score(G1, 2) "
   ]
  },
  {
   "cell_type": "markdown",
   "metadata": {},
   "source": [
    "## Iteration 3"
   ]
  },
  {
   "cell_type": "code",
   "execution_count": 183,
   "metadata": {},
   "outputs": [
    {
     "data": {
      "image/png": "[encoded data removed]",
      "text/plain": [
       "<Figure size 360x360 with 1 Axes>"
      ]
     },
     "metadata": {},
     "output_type": "display_data"
    }
   ],
   "source": [
    "# Interation 3: Direct reciprocity from node 1 - node serves the node 2 \n",
    "\n",
    "G3 = G2.copy()\n",
    "G3.add_edge(2,3, weight=10)\n",
    "\n",
    "draw_nx(G3, subtitle='Iteration 2: Indirect reciprocty')"
   ]
  },
  {
   "cell_type": "code",
   "execution_count": 189,
   "metadata": {},
   "outputs": [],
   "source": [
    "gt_g3 = lambda score: score(G3, 2) < score(G2, 2) and \\\n",
    "               score(G3, 1) < score(G1, 1) \n",
    "               "
   ]
  },
  {
   "cell_type": "code",
   "execution_count": null,
   "metadata": {},
   "outputs": [],
   "source": []
  },
  {
   "cell_type": "code",
   "execution_count": null,
   "metadata": {},
   "outputs": [],
   "source": []
  },
  {
   "cell_type": "code",
   "execution_count": 186,
   "metadata": {},
   "outputs": [
    {
     "data": {
      "text/plain": [
       "(1.0, 0.3355481727574751)"
      ]
     },
     "execution_count": 186,
     "metadata": {},
     "output_type": "execute_result"
    }
   ],
   "source": [
    "rel_rep(G2, 1), rel_rep(G2, 2),"
   ]
  },
  {
   "cell_type": "code",
   "execution_count": 130,
   "metadata": {},
   "outputs": [],
   "source": [
    "from ground_truth import abs_rep, rel_rep"
   ]
  },
  {
   "cell_type": "code",
   "execution_count": 140,
   "metadata": {},
   "outputs": [
    {
     "data": {
      "text/plain": [
       "(0.0049751243781094535, 0.3355481727574751, 1.9900990099009899)"
      ]
     },
     "execution_count": 140,
     "metadata": {},
     "output_type": "execute_result"
    }
   ],
   "source": [
    "rel_rep(G, 1), rel_rep(G, 2), rel_rep(G, 3)"
   ]
  },
  {
   "cell_type": "code",
   "execution_count": 138,
   "metadata": {},
   "outputs": [
    {
     "data": {
      "text/plain": [
       "(-0.985, -0.4849999999999999, 3.0149999999999997)"
      ]
     },
     "execution_count": 138,
     "metadata": {},
     "output_type": "execute_result"
    }
   ],
   "source": [
    "abs_rep(G, 1, alpha = 1.5), abs_rep(G, 2, alpha = 1.5), abs_rep(G, 3, alpha = 1.5)"
   ]
  },
  {
   "cell_type": "code",
   "execution_count": 119,
   "metadata": {},
   "outputs": [],
   "source": [
    "G.add_edge(3,2, weight=0)"
   ]
  },
  {
   "cell_type": "code",
   "execution_count": 141,
   "metadata": {},
   "outputs": [
    {
     "data": {
      "text/plain": [
       "(0.0049751243781094535, 0.3355481727574751, 1.9900990099009899)"
      ]
     },
     "execution_count": 141,
     "metadata": {},
     "output_type": "execute_result"
    }
   ],
   "source": [
    "rel_rep(G, 1), rel_rep(G, 2), rel_rep(G, 3)"
   ]
  },
  {
   "cell_type": "code",
   "execution_count": null,
   "metadata": {},
   "outputs": [],
   "source": []
  },
  {
   "cell_type": "code",
   "execution_count": 120,
   "metadata": {},
   "outputs": [
    {
     "data": {
      "text/plain": [
       "{1: 0.1844167633067642, 2: 0.3411716203526378, 3: 0.47441161634059764}"
      ]
     },
     "execution_count": 120,
     "metadata": {},
     "output_type": "execute_result"
    }
   ],
   "source": [
    "nx.pagerank(G, weight='weight')"
   ]
  },
  {
   "cell_type": "code",
   "execution_count": null,
   "metadata": {},
   "outputs": [],
   "source": []
  },
  {
   "cell_type": "code",
   "execution_count": 123,
   "metadata": {},
   "outputs": [
    {
     "data": {
      "text/plain": [
       "{1: 0.0, 2: 2.0, 3: 0.4}"
      ]
     },
     "execution_count": 123,
     "metadata": {},
     "output_type": "execute_result"
    }
   ],
   "source": [
    "nx.closeness_centrality(G, distance='weight') # Reciprocal average distance "
   ]
  },
  {
   "cell_type": "code",
   "execution_count": 124,
   "metadata": {},
   "outputs": [
    {
     "data": {
      "text/plain": [
       "{1: 0.0, 2: 0.5, 3: 0.0}"
      ]
     },
     "execution_count": 124,
     "metadata": {},
     "output_type": "execute_result"
    }
   ],
   "source": [
    "nx.betweenness_centrality(G, weight='weight')"
   ]
  },
  {
   "cell_type": "code",
   "execution_count": null,
   "metadata": {},
   "outputs": [],
   "source": []
  },
  {
   "cell_type": "code",
   "execution_count": null,
   "metadata": {},
   "outputs": [],
   "source": []
  },
  {
   "cell_type": "code",
   "execution_count": null,
   "metadata": {},
   "outputs": [],
   "source": []
  },
  {
   "cell_type": "markdown",
   "metadata": {},
   "source": [
    "### Ranking with Absolute contribution\n",
    "\n",
    "Alpha x Total_Up - Total_Down\n"
   ]
  },
  {
   "cell_type": "code",
   "execution_count": 9,
   "metadata": {},
   "outputs": [
    {
     "data": {
      "text/plain": [
       "<AxesSubplot:title={'center':'Net Contribution'}, xlabel='Peer ranking', ylabel='Contribution value'>"
      ]
     },
     "execution_count": 9,
     "metadata": {},
     "output_type": "execute_result"
    },
    {
     "data": {
      "image/png": "[encoded data removed]",
      "text/plain": [
       "<Figure size 432x288 with 1 Axes>"
      ]
     },
     "metadata": {
      "needs_background": "light"
     },
     "output_type": "display_data"
    }
   ],
   "source": [
    "alpha = 1.0\n",
    "\n",
    "G = wg_pl\n",
    "\n",
    "gt_x = {k: abs_rep(G, k, alpha=alpha) for k in range(N)}\n",
    "gt_r = rank_vals(gt_x)\n",
    "\n",
    "draw_rank_vals(gt_x, gt_r, 'Net Contribution', ylim=(None, 6000))"
   ]
  },
  {
   "cell_type": "markdown",
   "metadata": {},
   "source": [
    "### Ranking with Relative contribution"
   ]
  },
  {
   "cell_type": "code",
   "execution_count": 10,
   "metadata": {},
   "outputs": [],
   "source": [
    "source_nodes = list(range(10))\n",
    "\n",
    "#num_added_sources = 5\n",
    "#source_nodes = source_nodes | {k for k in random.sample(G.nodes(), num_added_sources)}\n",
    "\n",
    "def test_informativess(ranking_alg, gt_r, trust_rank_name = '', filter_out: bool = False, **kwargs):\n",
    "    vals = []\n",
    "    g = None\n",
    "    for source_node in source_nodes:\n",
    "        fil_func =  0 if filter_out else float('-inf')\n",
    "        x = {k: max(ranking_alg.compute(source_node, k), fil_func) for k in range(N)}\n",
    "        r = rank_vals(x)\n",
    "        vals.append(ss.spearmanr(list(gt_r.values()), list(r.values())))\n",
    "\n",
    "        g= draw_rank_vals(x, r, 'Contribution distribution with {}'.format(trust_rank_name), **kwargs)\n",
    "        \n",
    "    fig = g.get_figure()\n",
    "    fig.savefig(title+\".pdf\") \n",
    "    \n",
    "\n",
    "    l = [v.correlation for v in vals]\n",
    "    print(np.min(l), np.mean(l), np.max(l))\n"
   ]
  },
  {
   "cell_type": "markdown",
   "metadata": {},
   "source": [
    "### Ranking with the Trust graph"
   ]
  },
  {
   "cell_type": "code",
   "execution_count": null,
   "metadata": {},
   "outputs": [],
   "source": []
  },
  {
   "cell_type": "code",
   "execution_count": 11,
   "metadata": {},
   "outputs": [
    {
     "data": {
      "text/plain": [
       "<AxesSubplot:title={'center':'Contribution distribution'}, xlabel='Peer ranking', ylabel='Contribution value'>"
      ]
     },
     "execution_count": 11,
     "metadata": {},
     "output_type": "execute_result"
    },
    {
     "data": {
      "image/png": "[encoded data removed]",
      "text/plain": [
       "<Figure size 432x288 with 1 Axes>"
      ]
     },
     "metadata": {
      "needs_background": "light"
     },
     "output_type": "display_data"
    }
   ],
   "source": [
    "alpha = 1.0\n",
    "\n",
    "gt_x = {k: rel_rep(G, k, alpha=alpha) for k in range(N)}\n",
    "gt_r = rank_vals(gt_x)\n",
    "\n",
    "draw_rank_vals(gt_x, gt_r, 'Contribution distribution', ylim=(None, max(gt_x.values()) * 10))"
   ]
  },
  {
   "cell_type": "markdown",
   "metadata": {},
   "source": [
    "### Picking the source node for the experiment"
   ]
  },
  {
   "cell_type": "code",
   "execution_count": 12,
   "metadata": {},
   "outputs": [],
   "source": [
    "from random import sample, seed\n",
    "from typing import List\n",
    "\n",
    "# We pick 10 at random:\n",
    "\n",
    "def random_source_nodes(G: nx.DiGraph, n: int, seed_value: int = None) -> List[int]:\n",
    "    seed(seed_value)\n",
    "    return sample(G.nodes, n)\n",
    "\n",
    "\n",
    "def top_donating_nodes(G: nx.DiGraph, n: int, seed_value: int = None) -> List[int]:\n",
    "    top_in = sorted(((G.in_degree(i, 'weight'), i) for i in range(N)), reverse=True)[:n]\n",
    "    return [k[1] for k in top_in]\n",
    "\n",
    "\n",
    "def top_taking_nodes(G: nx.DiGraph, n: int, seed_value: int = None) -> List[int]:\n",
    "    top_out = sorted(((G.out_degree(i, 'weight'), i) for i in range(N)), reverse=True)[:n]\n",
    "    return [k[1] for k in top_out]\n",
    "\n",
    "\n"
   ]
  },
  {
   "cell_type": "code",
   "execution_count": 6,
   "metadata": {},
   "outputs": [],
   "source": []
  },
  {
   "cell_type": "markdown",
   "metadata": {},
   "source": [
    "### Ranking with the Trust graph"
   ]
  },
  {
   "cell_type": "code",
   "execution_count": 13,
   "metadata": {},
   "outputs": [],
   "source": [
    "N_range = (100, 500, 1000)\n",
    "\n",
    "seed_node_choices = ('random', 'top_givers', 'top_takers')\n",
    "rep_algos = ('pht', 'ppr', 'bc', 'rsbht', 'rspr', 'rsbhtpen')"
   ]
  },
  {
   "cell_type": "code",
   "execution_count": 14,
   "metadata": {},
   "outputs": [],
   "source": [
    "results = {}\n",
    "\n",
    "for rep in rep_algos:\n",
    "    results[rep] = {}\n",
    "    for s in seed_node_choices:\n",
    "        results[rep][s] = {}\n",
    "        for i in N_range:\n",
    "            results[rep][s][i] = {}\n"
   ]
  },
  {
   "cell_type": "code",
   "execution_count": 15,
   "metadata": {},
   "outputs": [
    {
     "data": {
      "text/plain": [
       "{'pht': {'random': {100: {}, 500: {}, 1000: {}},\n",
       "  'top_givers': {100: {}, 500: {}, 1000: {}},\n",
       "  'top_takers': {100: {}, 500: {}, 1000: {}}},\n",
       " 'ppr': {'random': {100: {}, 500: {}, 1000: {}},\n",
       "  'top_givers': {100: {}, 500: {}, 1000: {}},\n",
       "  'top_takers': {100: {}, 500: {}, 1000: {}}},\n",
       " 'bc': {'random': {100: {}, 500: {}, 1000: {}},\n",
       "  'top_givers': {100: {}, 500: {}, 1000: {}},\n",
       "  'top_takers': {100: {}, 500: {}, 1000: {}}},\n",
       " 'rsbht': {'random': {100: {}, 500: {}, 1000: {}},\n",
       "  'top_givers': {100: {}, 500: {}, 1000: {}},\n",
       "  'top_takers': {100: {}, 500: {}, 1000: {}}},\n",
       " 'rspr': {'random': {100: {}, 500: {}, 1000: {}},\n",
       "  'top_givers': {100: {}, 500: {}, 1000: {}},\n",
       "  'top_takers': {100: {}, 500: {}, 1000: {}}},\n",
       " 'rsbhtpen': {'random': {100: {}, 500: {}, 1000: {}},\n",
       "  'top_givers': {100: {}, 500: {}, 1000: {}},\n",
       "  'top_takers': {100: {}, 500: {}, 1000: {}}}}"
      ]
     },
     "execution_count": 15,
     "metadata": {},
     "output_type": "execute_result"
    }
   ],
   "source": [
    "results"
   ]
  },
  {
   "cell_type": "markdown",
   "metadata": {},
   "source": [
    "## All experiments run"
   ]
  },
  {
   "cell_type": "code",
   "execution_count": 202,
   "metadata": {},
   "outputs": [
    {
     "data": {
      "text/html": [
       "<div>\n",
       "<style scoped>\n",
       "    .dataframe tbody tr th:only-of-type {\n",
       "        vertical-align: middle;\n",
       "    }\n",
       "\n",
       "    .dataframe tbody tr th {\n",
       "        vertical-align: top;\n",
       "    }\n",
       "\n",
       "    .dataframe thead th {\n",
       "        text-align: right;\n",
       "    }\n",
       "</style>\n",
       "<table border=\"1\" class=\"dataframe\">\n",
       "  <thead>\n",
       "    <tr style=\"text-align: right;\">\n",
       "      <th></th>\n",
       "      <th>Unnamed: 0</th>\n",
       "      <th>pht</th>\n",
       "      <th>ppr</th>\n",
       "      <th>bc</th>\n",
       "      <th>rsbht</th>\n",
       "      <th>rspr</th>\n",
       "      <th>rsbhtpen</th>\n",
       "    </tr>\n",
       "  </thead>\n",
       "  <tbody>\n",
       "    <tr>\n",
       "      <th>0</th>\n",
       "      <td>random</td>\n",
       "      <td>{100: [0.5878578393114711, 0.5410064751834723,...</td>\n",
       "      <td>{100: [0.5839991816597627, 0.5909847042506609,...</td>\n",
       "      <td>{100: [0.6891154479269523, 0.68511546374972, 0...</td>\n",
       "      <td>{100: [0.5173325077479654, 0.6043446539421758,...</td>\n",
       "      <td>{100: [0.5932336578396376, 0.6805248784149217,...</td>\n",
       "      <td>{100: [-0.1589882071444902, 0.4367676503611862...</td>\n",
       "    </tr>\n",
       "    <tr>\n",
       "      <th>1</th>\n",
       "      <td>top_givers</td>\n",
       "      <td>{100: [0.6259198475539121, 0.6319298291547024,...</td>\n",
       "      <td>{100: [0.6141243798746008, 0.6091184004959278,...</td>\n",
       "      <td>{100: [0.8845258533508902, 0.9377382265694498,...</td>\n",
       "      <td>{100: [0.6786302497515891, 0.6976311091200749,...</td>\n",
       "      <td>{100: [0.7142420996233849, 0.8490554379364225,...</td>\n",
       "      <td>{100: [-0.16594460875779027, -0.16943817946848...</td>\n",
       "    </tr>\n",
       "    <tr>\n",
       "      <th>2</th>\n",
       "      <td>top_takers</td>\n",
       "      <td>{100: [0.6440932763897119, 0.6178272815047784,...</td>\n",
       "      <td>{100: [0.5975472905541094, 0.5580552929196236,...</td>\n",
       "      <td>{100: [0.8640637586507732, 0.6855166020807882,...</td>\n",
       "      <td>{100: [0.5667370545622518, 0.5949601243872373,...</td>\n",
       "      <td>{100: [0.851050971799948, 0.5817377952206368, ...</td>\n",
       "      <td>{100: [-0.15893874400678323, 0.357458826975897...</td>\n",
       "    </tr>\n",
       "  </tbody>\n",
       "</table>\n",
       "</div>"
      ],
      "text/plain": [
       "   Unnamed: 0                                                pht  \\\n",
       "0      random  {100: [0.5878578393114711, 0.5410064751834723,...   \n",
       "1  top_givers  {100: [0.6259198475539121, 0.6319298291547024,...   \n",
       "2  top_takers  {100: [0.6440932763897119, 0.6178272815047784,...   \n",
       "\n",
       "                                                 ppr  \\\n",
       "0  {100: [0.5839991816597627, 0.5909847042506609,...   \n",
       "1  {100: [0.6141243798746008, 0.6091184004959278,...   \n",
       "2  {100: [0.5975472905541094, 0.5580552929196236,...   \n",
       "\n",
       "                                                  bc  \\\n",
       "0  {100: [0.6891154479269523, 0.68511546374972, 0...   \n",
       "1  {100: [0.8845258533508902, 0.9377382265694498,...   \n",
       "2  {100: [0.8640637586507732, 0.6855166020807882,...   \n",
       "\n",
       "                                               rsbht  \\\n",
       "0  {100: [0.5173325077479654, 0.6043446539421758,...   \n",
       "1  {100: [0.6786302497515891, 0.6976311091200749,...   \n",
       "2  {100: [0.5667370545622518, 0.5949601243872373,...   \n",
       "\n",
       "                                                rspr  \\\n",
       "0  {100: [0.5932336578396376, 0.6805248784149217,...   \n",
       "1  {100: [0.7142420996233849, 0.8490554379364225,...   \n",
       "2  {100: [0.851050971799948, 0.5817377952206368, ...   \n",
       "\n",
       "                                            rsbhtpen  \n",
       "0  {100: [-0.1589882071444902, 0.4367676503611862...  \n",
       "1  {100: [-0.16594460875779027, -0.16943817946848...  \n",
       "2  {100: [-0.15893874400678323, 0.357458826975897...  "
      ]
     },
     "execution_count": 202,
     "metadata": {},
     "output_type": "execute_result"
    }
   ],
   "source": [
    "df"
   ]
  },
  {
   "cell_type": "markdown",
   "metadata": {},
   "source": [
    "## Filtering \n",
    "\n",
    "Simple binary classification: \n",
    "- `< 0` balance - freerider - Get 0 \n",
    "- `> 0` balance - leave as it is \n",
    "\n"
   ]
  },
  {
   "cell_type": "markdown",
   "metadata": {},
   "source": [
    "-----\n",
    "## Robustness of the algorithms\n",
    "\n",
    "We analyze the robusteness of these algorithms against sybil attacks with fake data. \n",
    "\n"
   ]
  },
  {
   "cell_type": "code",
   "execution_count": 246,
   "metadata": {},
   "outputs": [
    {
     "data": {
      "text/html": [
       "<div>\n",
       "<style scoped>\n",
       "    .dataframe tbody tr th:only-of-type {\n",
       "        vertical-align: middle;\n",
       "    }\n",
       "\n",
       "    .dataframe tbody tr th {\n",
       "        vertical-align: top;\n",
       "    }\n",
       "\n",
       "    .dataframe thead th {\n",
       "        text-align: right;\n",
       "    }\n",
       "</style>\n",
       "<table border=\"1\" class=\"dataframe\">\n",
       "  <thead>\n",
       "    <tr style=\"text-align: right;\">\n",
       "      <th></th>\n",
       "      <th>pht</th>\n",
       "      <th>ppr</th>\n",
       "      <th>bc</th>\n",
       "      <th>rsbht</th>\n",
       "      <th>rspr</th>\n",
       "      <th>rsbhtpen</th>\n",
       "    </tr>\n",
       "  </thead>\n",
       "  <tbody>\n",
       "    <tr>\n",
       "      <th>random</th>\n",
       "      <td>{100: [(0.5194805194805194, 0.975609756097561,...</td>\n",
       "      <td>{100: [(0.5946666666666667, 1.0, 0.74581939799...</td>\n",
       "      <td>{100: [(0.8467532467532467, 0.9235127478753541...</td>\n",
       "      <td>{100: [(0.6271604938271605, 0.9694656488549618...</td>\n",
       "      <td>{100: [(0.8805555555555555, 0.9057142857142857...</td>\n",
       "      <td>{100: [(0.8971428571428571, 0.814526588845655,...</td>\n",
       "    </tr>\n",
       "    <tr>\n",
       "      <th>top_givers</th>\n",
       "      <td>{100: [(0.5063291139240507, 1.0, 0.67226890756...</td>\n",
       "      <td>{100: [(0.5945945945945946, 0.9777777777777777...</td>\n",
       "      <td>{100: [(0.9987012987012988, 0.853496115427303,...</td>\n",
       "      <td>{100: [(0.7794871794871795, 0.9514866979655712...</td>\n",
       "      <td>{100: [(0.970886075949367, 0.8437843784378438,...</td>\n",
       "      <td>{100: [(0.9947368421052631, 0.7605633802816901...</td>\n",
       "    </tr>\n",
       "    <tr>\n",
       "      <th>top_takers</th>\n",
       "      <td>{100: [(0.7692307692307693, 0.9966777408637874...</td>\n",
       "      <td>{100: [(0.4797297297297297, 1.0, 0.64840182648...</td>\n",
       "      <td>{100: [(0.78125, 0.9384384384384384, 0.8526603...</td>\n",
       "      <td>{100: [(0.7680555555555556, 0.9388794567062818...</td>\n",
       "      <td>{100: [(0.7577464788732394, 0.8663446054750402...</td>\n",
       "      <td>{100: [(0.9056338028169014, 0.7564705882352941...</td>\n",
       "    </tr>\n",
       "  </tbody>\n",
       "</table>\n",
       "</div>"
      ],
      "text/plain": [
       "                                                          pht  \\\n",
       "random      {100: [(0.5194805194805194, 0.975609756097561,...   \n",
       "top_givers  {100: [(0.5063291139240507, 1.0, 0.67226890756...   \n",
       "top_takers  {100: [(0.7692307692307693, 0.9966777408637874...   \n",
       "\n",
       "                                                          ppr  \\\n",
       "random      {100: [(0.5946666666666667, 1.0, 0.74581939799...   \n",
       "top_givers  {100: [(0.5945945945945946, 0.9777777777777777...   \n",
       "top_takers  {100: [(0.4797297297297297, 1.0, 0.64840182648...   \n",
       "\n",
       "                                                           bc  \\\n",
       "random      {100: [(0.8467532467532467, 0.9235127478753541...   \n",
       "top_givers  {100: [(0.9987012987012988, 0.853496115427303,...   \n",
       "top_takers  {100: [(0.78125, 0.9384384384384384, 0.8526603...   \n",
       "\n",
       "                                                        rsbht  \\\n",
       "random      {100: [(0.6271604938271605, 0.9694656488549618...   \n",
       "top_givers  {100: [(0.7794871794871795, 0.9514866979655712...   \n",
       "top_takers  {100: [(0.7680555555555556, 0.9388794567062818...   \n",
       "\n",
       "                                                         rspr  \\\n",
       "random      {100: [(0.8805555555555555, 0.9057142857142857...   \n",
       "top_givers  {100: [(0.970886075949367, 0.8437843784378438,...   \n",
       "top_takers  {100: [(0.7577464788732394, 0.8663446054750402...   \n",
       "\n",
       "                                                     rsbhtpen  \n",
       "random      {100: [(0.8971428571428571, 0.814526588845655,...  \n",
       "top_givers  {100: [(0.9947368421052631, 0.7605633802816901...  \n",
       "top_takers  {100: [(0.9056338028169014, 0.7564705882352941...  "
      ]
     },
     "execution_count": 246,
     "metadata": {},
     "output_type": "execute_result"
    }
   ],
   "source": [
    "df_f"
   ]
  },
  {
   "cell_type": "markdown",
   "metadata": {},
   "source": [
    "## Visualizing results "
   ]
  },
  {
   "cell_type": "code",
   "execution_count": null,
   "metadata": {},
   "outputs": [],
   "source": [
    "### We visualize "
   ]
  },
  {
   "cell_type": "code",
   "execution_count": 251,
   "metadata": {},
   "outputs": [
    {
     "data": {
      "text/plain": [
       "[(0.5194805194805194, 0.975609756097561, 0.6779661016949152),\n",
       " (0.6093333333333333, 1.0, 0.7572493786246892),\n",
       " (0.6092105263157894, 0.9605809128630706, 0.7455716586151369),\n",
       " (0.551948051948052, 1.0, 0.7112970711297071),\n",
       " (0.396, 1.0, 0.5673352435530087)]"
      ]
     },
     "execution_count": 251,
     "metadata": {},
     "output_type": "execute_result"
    }
   ],
   "source": [
    "df_f['pht']['random']"
   ]
  },
  {
   "cell_type": "code",
   "execution_count": 372,
   "metadata": {},
   "outputs": [
    {
     "data": {
      "text/html": [
       "<div>\n",
       "<style scoped>\n",
       "    .dataframe tbody tr th:only-of-type {\n",
       "        vertical-align: middle;\n",
       "    }\n",
       "\n",
       "    .dataframe tbody tr th {\n",
       "        vertical-align: top;\n",
       "    }\n",
       "\n",
       "    .dataframe thead th {\n",
       "        text-align: right;\n",
       "    }\n",
       "</style>\n",
       "<table border=\"1\" class=\"dataframe\">\n",
       "  <thead>\n",
       "    <tr style=\"text-align: right;\">\n",
       "      <th></th>\n",
       "      <th>source</th>\n",
       "      <th>alg</th>\n",
       "      <th>g_n</th>\n",
       "      <th>precision</th>\n",
       "      <th>recall</th>\n",
       "      <th>f1</th>\n",
       "    </tr>\n",
       "  </thead>\n",
       "  <tbody>\n",
       "    <tr>\n",
       "      <th>0</th>\n",
       "      <td>random</td>\n",
       "      <td>pht</td>\n",
       "      <td>100</td>\n",
       "      <td>0.537194</td>\n",
       "      <td>0.987238</td>\n",
       "      <td>0.691884</td>\n",
       "    </tr>\n",
       "    <tr>\n",
       "      <th>1</th>\n",
       "      <td>random</td>\n",
       "      <td>pht</td>\n",
       "      <td>500</td>\n",
       "      <td>0.674737</td>\n",
       "      <td>0.963045</td>\n",
       "      <td>0.792483</td>\n",
       "    </tr>\n",
       "    <tr>\n",
       "      <th>2</th>\n",
       "      <td>random</td>\n",
       "      <td>pht</td>\n",
       "      <td>1000</td>\n",
       "      <td>0.718318</td>\n",
       "      <td>0.950568</td>\n",
       "      <td>0.818018</td>\n",
       "    </tr>\n",
       "    <tr>\n",
       "      <th>3</th>\n",
       "      <td>random</td>\n",
       "      <td>ppr</td>\n",
       "      <td>100</td>\n",
       "      <td>0.601295</td>\n",
       "      <td>0.983462</td>\n",
       "      <td>0.736123</td>\n",
       "    </tr>\n",
       "    <tr>\n",
       "      <th>4</th>\n",
       "      <td>random</td>\n",
       "      <td>ppr</td>\n",
       "      <td>500</td>\n",
       "      <td>0.603716</td>\n",
       "      <td>0.983250</td>\n",
       "      <td>0.746154</td>\n",
       "    </tr>\n",
       "    <tr>\n",
       "      <th>5</th>\n",
       "      <td>random</td>\n",
       "      <td>ppr</td>\n",
       "      <td>1000</td>\n",
       "      <td>0.572223</td>\n",
       "      <td>0.982441</td>\n",
       "      <td>0.722611</td>\n",
       "    </tr>\n",
       "    <tr>\n",
       "      <th>6</th>\n",
       "      <td>random</td>\n",
       "      <td>bc</td>\n",
       "      <td>100</td>\n",
       "      <td>0.831093</td>\n",
       "      <td>0.904981</td>\n",
       "      <td>0.864739</td>\n",
       "    </tr>\n",
       "    <tr>\n",
       "      <th>7</th>\n",
       "      <td>random</td>\n",
       "      <td>bc</td>\n",
       "      <td>500</td>\n",
       "      <td>0.752627</td>\n",
       "      <td>0.918076</td>\n",
       "      <td>0.825838</td>\n",
       "    </tr>\n",
       "    <tr>\n",
       "      <th>8</th>\n",
       "      <td>random</td>\n",
       "      <td>bc</td>\n",
       "      <td>1000</td>\n",
       "      <td>0.738564</td>\n",
       "      <td>0.922337</td>\n",
       "      <td>0.818842</td>\n",
       "    </tr>\n",
       "    <tr>\n",
       "      <th>9</th>\n",
       "      <td>random</td>\n",
       "      <td>rsbht</td>\n",
       "      <td>100</td>\n",
       "      <td>0.717865</td>\n",
       "      <td>0.922818</td>\n",
       "      <td>0.805439</td>\n",
       "    </tr>\n",
       "    <tr>\n",
       "      <th>10</th>\n",
       "      <td>random</td>\n",
       "      <td>rsbht</td>\n",
       "      <td>500</td>\n",
       "      <td>0.907417</td>\n",
       "      <td>0.855028</td>\n",
       "      <td>0.880090</td>\n",
       "    </tr>\n",
       "    <tr>\n",
       "      <th>11</th>\n",
       "      <td>random</td>\n",
       "      <td>rsbht</td>\n",
       "      <td>1000</td>\n",
       "      <td>0.940479</td>\n",
       "      <td>0.832140</td>\n",
       "      <td>0.882967</td>\n",
       "    </tr>\n",
       "    <tr>\n",
       "      <th>12</th>\n",
       "      <td>random</td>\n",
       "      <td>rspr</td>\n",
       "      <td>100</td>\n",
       "      <td>0.889152</td>\n",
       "      <td>0.888169</td>\n",
       "      <td>0.887850</td>\n",
       "    </tr>\n",
       "    <tr>\n",
       "      <th>13</th>\n",
       "      <td>random</td>\n",
       "      <td>rspr</td>\n",
       "      <td>500</td>\n",
       "      <td>0.931745</td>\n",
       "      <td>0.828142</td>\n",
       "      <td>0.876642</td>\n",
       "    </tr>\n",
       "    <tr>\n",
       "      <th>14</th>\n",
       "      <td>random</td>\n",
       "      <td>rspr</td>\n",
       "      <td>1000</td>\n",
       "      <td>0.964967</td>\n",
       "      <td>0.797245</td>\n",
       "      <td>0.873061</td>\n",
       "    </tr>\n",
       "    <tr>\n",
       "      <th>15</th>\n",
       "      <td>random</td>\n",
       "      <td>rsbhtpen</td>\n",
       "      <td>100</td>\n",
       "      <td>0.875057</td>\n",
       "      <td>0.826182</td>\n",
       "      <td>0.849744</td>\n",
       "    </tr>\n",
       "    <tr>\n",
       "      <th>16</th>\n",
       "      <td>random</td>\n",
       "      <td>rsbhtpen</td>\n",
       "      <td>500</td>\n",
       "      <td>0.954520</td>\n",
       "      <td>0.820110</td>\n",
       "      <td>0.881901</td>\n",
       "    </tr>\n",
       "    <tr>\n",
       "      <th>17</th>\n",
       "      <td>random</td>\n",
       "      <td>rsbhtpen</td>\n",
       "      <td>1000</td>\n",
       "      <td>0.967584</td>\n",
       "      <td>0.808249</td>\n",
       "      <td>0.880602</td>\n",
       "    </tr>\n",
       "  </tbody>\n",
       "</table>\n",
       "</div>"
      ],
      "text/plain": [
       "    source       alg   g_n  precision    recall        f1\n",
       "0   random       pht   100   0.537194  0.987238  0.691884\n",
       "1   random       pht   500   0.674737  0.963045  0.792483\n",
       "2   random       pht  1000   0.718318  0.950568  0.818018\n",
       "3   random       ppr   100   0.601295  0.983462  0.736123\n",
       "4   random       ppr   500   0.603716  0.983250  0.746154\n",
       "5   random       ppr  1000   0.572223  0.982441  0.722611\n",
       "6   random        bc   100   0.831093  0.904981  0.864739\n",
       "7   random        bc   500   0.752627  0.918076  0.825838\n",
       "8   random        bc  1000   0.738564  0.922337  0.818842\n",
       "9   random     rsbht   100   0.717865  0.922818  0.805439\n",
       "10  random     rsbht   500   0.907417  0.855028  0.880090\n",
       "11  random     rsbht  1000   0.940479  0.832140  0.882967\n",
       "12  random      rspr   100   0.889152  0.888169  0.887850\n",
       "13  random      rspr   500   0.931745  0.828142  0.876642\n",
       "14  random      rspr  1000   0.964967  0.797245  0.873061\n",
       "15  random  rsbhtpen   100   0.875057  0.826182  0.849744\n",
       "16  random  rsbhtpen   500   0.954520  0.820110  0.881901\n",
       "17  random  rsbhtpen  1000   0.967584  0.808249  0.880602"
      ]
     },
     "execution_count": 372,
     "metadata": {},
     "output_type": "execute_result"
    }
   ],
   "source": [
    "m_df[m_df['source'] == 'random']"
   ]
  },
  {
   "cell_type": "code",
   "execution_count": 382,
   "metadata": {},
   "outputs": [
    {
     "data": {
      "image/png": "[encoded data removed]",
      "text/plain": [
       "<Figure size 432x288 with 1 Axes>"
      ]
     },
     "metadata": {},
     "output_type": "display_data"
    }
   ],
   "source": [
    "tips = m_df\n",
    "ax = sns.barplot(x=\"alg\", y=\"f1\", data=tips, hue='source')"
   ]
  },
  {
   "cell_type": "markdown",
   "metadata": {},
   "source": [
    "# Next notebooks \n",
    "\n",
    "**Informativeness**:\n",
    "- Testing reputation algorithms as a *Ranking algorithms*  \n",
    "- Testing reputation algorithms as a *Filtering algorithms*\n",
    "\n",
    "**Robustness**:\n",
    "- Testing reputation algorithms for Robustness: One attacker with a Sybil\n",
    "\n",
    "**Imperfect Knowledge**:\n",
    "- Info\n",
    "\n",
    "\n"
   ]
  },
  {
   "cell_type": "code",
   "execution_count": null,
   "metadata": {},
   "outputs": [],
   "source": []
  }
 ],
 "metadata": {
  "kernelspec": {
   "display_name": "Python 3",
   "language": "python",
   "name": "python3"
  },
  "language_info": {
   "codemirror_mode": {
    "name": "ipython",
    "version": 3
   },
   "file_extension": ".py",
   "mimetype": "text/x-python",
   "name": "python",
   "nbconvert_exporter": "python",
   "pygments_lexer": "ipython3",
   "version": "3.9.9"
  }
 },
 "nbformat": 4,
 "nbformat_minor": 4
}
