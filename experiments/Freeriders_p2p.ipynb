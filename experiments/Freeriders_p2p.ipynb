{
 "cells": [
  {
   "cell_type": "markdown",
   "metadata": {},
   "source": [
    "# Dealing with FreeRiders in P2P \n",
    "\n",
    "- Freriders can be present in any p2p system on multiple levels. \n",
    "- We address the freeriders on the networking level, i.e. when peer don't particicpate in the protocol to save the resources. \n",
    "    - Active freeriding on the networking level - trying to decrease the quality of service from other peers and increase own QoS. \n",
    "    \n"
   ]
  },
  {
   "cell_type": "markdown",
   "metadata": {},
   "source": [
    "## Experiment 1\n",
    "\n",
    "**Context**: Exchanging the transactions and data, such that every peer receives it. \n",
    "\n",
    "**Examples**: Bitcoin, Gossip Network, DHT \n",
    "\n",
    "\n",
    "### Process and plan \n",
    "\n",
    "- Create an overlay with peer spreaded either random:\n",
    "    * Unstructured: Gossip Network like in Bitcoin. \n",
    "    * Structured: DHT-like network with a load. Wikiedia on IPFS - patterns of the access.  \n",
    "- Load on the peers: \n",
    "    * Unstructured: The load is generated from the clients. Clients produce transactions by Pareto law. Each peer must spread the transactions evenly.  \n",
    "    * Structured: clients generate load by requesting files. Peer store the files unevenly but relay the traffic. Search in DHT using the Zipf law distribution \n",
    "    \n",
    "    \n",
    "#### Attack scenarios \n",
    "\n",
    "- Model one freerider: See the effect of the freeriding on one peer. How much you can save while not losing the priority;\n",
    "- Model K freeriders: What is the effect on the whole system. How it will change with the number of freeriders\n"
   ]
  },
  {
   "cell_type": "code",
   "execution_count": null,
   "metadata": {},
   "outputs": [],
   "source": [
    "from random import choice\n",
    "\n",
    "import matplotlib.pyplot as plt\n",
    "import networkx as nx\n",
    "\n",
    "# Define locations\n",
    "from ledger0.application_handler import AccountableGossip, AccountableMessageProducer\n",
    "from ledger0.crawler import CrawlerService\n",
    "from ledger0.ledger import LedgerNetterWorker\n",
    "from p2psimpy.config import *\n",
    "from p2psimpy.consts import *\n",
    "from p2psimpy.services.connection_manager import BaseConnectionManager\n",
    "\n",
    "# Locations and latencies between the points \n",
    "class Locations(Config):\n",
    "    locations = ['Ohio', 'Ireland', 'Tokyo']\n",
    "    latencies = {\n",
    "        'Ohio': {'Ohio': Dist('invgamma', (5.54090, 0.333305, 0.987249)),\n",
    "                 'Ireland': Dist('norm', (73.6995, 1.19583092197097127)),\n",
    "                 'Tokyo': Dist('norm', (156.00904977375566, 0.09469886668079797))\n",
    "                },\n",
    "        'Ireland':{'Ireland': Dist('invgamma', (6.4360455224301525, 0.8312748033308526, 1.086191852963273)),\n",
    "                   'Tokyo': Dist('norm', (131.0275, 0.25834811785650774))\n",
    "                  },\n",
    "        'Tokyo': {'Tokyo':  Dist('invgamma', (11.104508341331055, 0.3371934865734555, 2.0258998705983737))}\n",
    "    }\n",
    "    \n",
    "# Peer physical properties \n",
    "class PeerConfig(Config):\n",
    "    location = Dist('sample', Locations.locations)\n",
    "    bandwidth_ul = Dist( 'norm', (50*MBit, 10*MBit))\n",
    "    bandwidth_dl = Dist( 'norm', (50*MBit, 10*MBit))\n",
    "\n",
    "# Configuration used for our GossipService\n",
    "class GossipConfig(Config):\n",
    "    exclude_types={'client',}\n",
    "\n",
    "# We have not two types of nodes: *peer* and *client*\n",
    "def prepare_peer_types():\n",
    "    return { 'peer': PeerType(PeerConfig,   {BaseConnectionManager: None,\n",
    "                                             AccountableGossip: GossipConfig,\n",
    "                                             LedgerNetterWorker: None,\n",
    "                                             CrawlerService: None\n",
    "                                             }),\n",
    "             'client': PeerType(PeerConfig, (BaseConnectionManager,\n",
    "                                             AccountableMessageProducer,\n",
    "                                             LedgerNetterWorker,\n",
    "                                             CrawlerService\n",
    "                                             ))}\n",
    "\n",
    "def prepare_topology(num_peers=25, num_clients=1):    \n",
    "    # Create network topology\n",
    "    G = nx.erdos_renyi_graph(num_peers, 0.4)   \n",
    "    nx.relabel_nodes(G, {k: k+1 for k in G.nodes()} ,copy=False)\n",
    "    \n",
    "    # Connect the client node to a random peer\n",
    "    client_edges = [(i, choice(list(G.nodes())))\n",
    "                    for i in range(num_peers+1, num_clients+num_peers+1)]\n",
    "    G.add_edges_from(client_edges)\n",
    "\n",
    "    types_map = {k: 'peer' if k < num_peers+1 else 'client' for k in G.nodes()}\n",
    "    # Assign a peer type to the peers \n",
    "    nx.set_node_attributes(G, types_map , 'type')\n",
    "    return G\n",
    "\n",
    "def visualize_peer_client_network(G):\n",
    "    plt.figure(figsize=(10,10))\n",
    "\n",
    "    # Draw client/ peer network \n",
    "\n",
    "    master_nodes = [n for (n,ty) in \\\n",
    "        nx.get_node_attributes(G,'type').items() if ty == 'peer']\n",
    "    client_nodes = [n for (n,ty) in \\\n",
    "        nx.get_node_attributes(G,'type').items() if ty == 'client']\n",
    "\n",
    "    pos = nx.kamada_kawai_layout(G)\n",
    "\n",
    "    nx.draw_networkx_nodes(G, pos, nodelist=master_nodes,\n",
    "                           node_color='blue', node_shape='o',\n",
    "                           node_size=500)\n",
    "    nx.draw_networkx_nodes(G, pos, nodelist=client_nodes,\n",
    "                           node_color='green', node_shape='^',\n",
    "                           node_size=100, label=1)\n",
    "\n",
    "    nx.draw_networkx_labels(G, pos, labels={k:k for k in master_nodes},\n",
    "                            font_color='w')\n",
    "\n",
    "    nx.draw_networkx_edges(G, pos,\n",
    "                           edgelist=G.subgraph(master_nodes).edges(),\n",
    "                           width=1.5)\n",
    "    nx.draw_networkx_edges(G, pos,\n",
    "                           edgelist=G.edges(nbunch=client_nodes),\n",
    "                           style='dotted')\n"
   ]
  },
  {
   "cell_type": "code",
   "execution_count": null,
   "metadata": {},
   "outputs": [],
   "source": [
    "G =  prepare_topology()\n",
    "visualize_peer_client_network(G)"
   ]
  },
  {
   "cell_type": "code",
   "execution_count": null,
   "outputs": [],
   "source": [
    "from p2psimpy.simulation import BaseSimulation\n",
    "\n",
    "#  logger_dir='new_log', enable_logger=True\n",
    "sim = BaseSimulation(Locations, G, prepare_peer_types())\n",
    "sim.run(50_000)"
   ],
   "metadata": {
    "collapsed": false,
    "pycharm": {
     "name": "#%%\n"
    }
   }
  },
  {
   "cell_type": "code",
   "execution_count": null,
   "outputs": [],
   "source": [
    "sim.peers[1].counters.receive_counters"
   ],
   "metadata": {
    "collapsed": false,
    "pycharm": {
     "name": "#%%\n"
    }
   }
  },
  {
   "cell_type": "code",
   "execution_count": null,
   "outputs": [],
   "source": [
    "sim.peers[13].counters.send_counters"
   ],
   "metadata": {
    "collapsed": false,
    "pycharm": {
     "name": "#%%\n"
    }
   }
  },
  {
   "cell_type": "code",
   "execution_count": null,
   "outputs": [],
   "source": [
    "print(sim.peers[1].storage['work_graph'].G.number_of_edges())\n",
    "print(sim.peers[2].storage['work_graph'].G.number_of_edges())\n",
    "print(sim.peers[3].storage['work_graph'].G.number_of_edges())\n",
    "print(sim.peers[4].storage['work_graph'].G.number_of_edges())\n",
    "print(sim.peers[5].storage['work_graph'].G.number_of_edges())"
   ],
   "metadata": {
    "collapsed": false,
    "pycharm": {
     "name": "#%%\n"
    }
   }
  },
  {
   "cell_type": "code",
   "execution_count": null,
   "outputs": [],
   "source": [
    "print(sim.peers[1].storage['work_graph'].G.number_of_edges())\n",
    "print(sim.peers[2].storage['work_graph'].G.number_of_edges())\n",
    "print(sim.peers[3].storage['work_graph'].G.number_of_edges())\n",
    "print(sim.peers[4].storage['work_graph'].G.number_of_edges())\n",
    "print(sim.peers[5].storage['work_graph'].G.number_of_edges())"
   ],
   "metadata": {
    "collapsed": false,
    "pycharm": {
     "name": "#%%\n"
    }
   }
  },
  {
   "cell_type": "code",
   "execution_count": null,
   "outputs": [],
   "source": [
    "print(sim.peers[1].storage['work_graph'].G.number_of_edges())\n",
    "print(sim.peers[2].storage['work_graph'].G.number_of_edges())\n",
    "print(sim.peers[3].storage['work_graph'].G.number_of_edges())\n",
    "print(sim.peers[4].storage['work_graph'].G.number_of_edges())\n",
    "print(sim.peers[5].storage['work_graph'].G.number_of_edges())"
   ],
   "metadata": {
    "collapsed": false,
    "pycharm": {
     "name": "#%%\n"
    }
   }
  },
  {
   "cell_type": "code",
   "execution_count": null,
   "outputs": [],
   "source": [
    "print(sim.peers[1].storage['work_graph'].G.number_of_edges())\n",
    "print(sim.peers[2].storage['work_graph'].G.number_of_edges())\n",
    "print(sim.peers[3].storage['work_graph'].G.number_of_edges())\n",
    "print(sim.peers[4].storage['work_graph'].G.number_of_edges())\n",
    "print(sim.peers[5].storage['work_graph'].G.number_of_edges())"
   ],
   "metadata": {
    "collapsed": false,
    "pycharm": {
     "name": "#%%\n"
    }
   }
  },
  {
   "cell_type": "code",
   "execution_count": null,
   "outputs": [],
   "source": [
    "G.number_of_edges()\n"
   ],
   "metadata": {
    "collapsed": false,
    "pycharm": {
     "name": "#%%\n"
    }
   }
  },
  {
   "cell_type": "markdown",
   "source": [
    "### How quick we converge\n",
    "\n",
    "*Convergance - $\\delta t$ to have $|E|$ nodes*\n",
    "\n",
    "- Random walk on ego network + Random 5 transactions on response + $500 ms$:\n",
    "  $50 s$, 100 rounds of crawling\n",
    "-"
   ],
   "metadata": {
    "collapsed": false,
    "pycharm": {
     "name": "#%% md\n"
    }
   }
  },
  {
   "cell_type": "markdown",
   "metadata": {
    "pycharm": {
     "name": "#%% md\n"
    }
   },
   "source": [
    "\n",
    "### Overlay enhancements\n",
    "1. **An accounting system**\n",
    "\n",
    "Count the messages bandwidth between the peers based on pairwise interaction.\n",
    "The peers exchange the counters and store their views together\n",
    "with signature.\n",
    "2. **Sampling algorithm**\n",
    "\n",
    "Sample the transactions from the network starting crawling the data\n",
    "from ego work graph. Sampling the transactions\n",
    "\n",
    "\n",
    "3. Reputation (Classification) algorithm\n",
    "4. Scheduling, Routing advices and Restructuring\n",
    "---\n",
    "- Handler to store the messages - with a graph structure\n",
    "- MessageProducer - interaction with a peer\n",
    "- Sampling - a runner to collect and put in the storage.\n",
    "- Reputation - a runner, periodically write a reputation scores.\n",
    "- Routing advices - handler for routing. A smart router.\n"
   ]
  },
  {
   "cell_type": "code",
   "execution_count": null,
   "metadata": {},
   "outputs": [],
   "source": []
  }
 ],
 "metadata": {
  "kernelspec": {
   "display_name": "Python 3",
   "language": "python",
   "name": "python3"
  },
  "language_info": {
   "codemirror_mode": {
    "name": "ipython",
    "version": 3
   },
   "file_extension": ".py",
   "mimetype": "text/x-python",
   "name": "python",
   "nbconvert_exporter": "python",
   "pygments_lexer": "ipython3",
   "version": "3.8.2"
  }
 },
 "nbformat": 4,
 "nbformat_minor": 4
}