{
 "cells": [
  {
   "cell_type": "markdown",
   "metadata": {},
   "source": [
    "# Dealing with FreeRiders in P2P \n",
    "\n",
    "- Freriders can be present in any p2p system on multiple levels. \n",
    "- We address the freeriders on the networking level, i.e. when peer don't particicpate in the protocol to save the resources. \n",
    "    - Active freeriding on the networking level - trying to decrease the quality of service from other peers and increase own QoS. \n",
    "    \n"
   ]
  },
  {
   "cell_type": "markdown",
   "metadata": {},
   "source": [
    "## Experiment 1\n",
    "\n",
    "**Context**: Exchanging the transactions and data, such that every peer receives it. \n",
    "\n",
    "**Examples**: Bitcoin, Gossip Network, DHT \n",
    "\n",
    "\n",
    "### Process and plan \n",
    "\n",
    "- Create an overlay with peer spreaded either random:\n",
    "    * Unstructured: Gossip Network like in Bitcoin. \n",
    "    * Structured: DHT-like network with a load. Wikiedia on IPFS - patterns of the access.  \n",
    "- Load on the peers: \n",
    "    * Unstructured: The load is generated from the clients. Clients produce transactions by Pareto law. Each peer must spread the transactions evenly.  \n",
    "    * Structured: clients generate load by requesting files. Peer store the files unevenly but relay the traffic. Search in DHT using the Zipf law distribution \n",
    "    \n",
    "    \n",
    "#### Attack scenarios \n",
    "\n",
    "- Model one freerider: See the effect of the freeriding on one peer. How much you can save while not losing the priority;\n",
    "- Model K freeriders: What is the effect on the whole system. How it will change with the number of freeriders\n"
   ]
  },
  {
   "cell_type": "code",
   "execution_count": 24,
   "metadata": {},
   "outputs": [],
   "source": [
    "from random import choice\n",
    "\n",
    "import matplotlib.pyplot as plt\n",
    "import networkx as nx\n",
    "\n",
    "# Define locations\n",
    "from ledger0.application_handler import AccountableGossip, AccountableMessageProducer\n",
    "from ledger0.crawler import CrawlerService\n",
    "from ledger0.ledger import LedgerNetterWorker\n",
    "from ledger0.reputation import ReputationService\n",
    "from p2psimpy.config import *\n",
    "from p2psimpy.consts import *\n",
    "from p2psimpy.services.connection_manager import BaseConnectionManager\n",
    "\n",
    "# Locations and latencies between the points \n",
    "class Locations(Config):\n",
    "    locations = ['Ohio', 'Ireland', 'Tokyo']\n",
    "    latencies = {\n",
    "        'Ohio': {'Ohio': Dist('invgamma', (5.54090, 0.333305, 0.987249)),\n",
    "                 'Ireland': Dist('norm', (73.6995, 1.19583092197097127)),\n",
    "                 'Tokyo': Dist('norm', (156.00904977375566, 0.09469886668079797))\n",
    "                },\n",
    "        'Ireland':{'Ireland': Dist('invgamma', (6.4360455224301525, 0.8312748033308526, 1.086191852963273)),\n",
    "                   'Tokyo': Dist('norm', (131.0275, 0.25834811785650774))\n",
    "                  },\n",
    "        'Tokyo': {'Tokyo':  Dist('invgamma', (11.104508341331055, 0.3371934865734555, 2.0258998705983737))}\n",
    "    }\n",
    "    \n",
    "# Peer physical properties \n",
    "class PeerConfig(Config):\n",
    "    location = Dist('sample', Locations.locations)\n",
    "    bandwidth_ul = Dist( 'norm', (50*MBit, 10*MBit))\n",
    "    bandwidth_dl = Dist( 'norm', (50*MBit, 10*MBit))\n",
    "\n",
    "# Configuration used for our GossipService\n",
    "class GossipConfig(Config):\n",
    "    exclude_types={'client',}\n",
    "\n",
    "# We have not two types of nodes: *peer* and *client*\n",
    "def prepare_peer_types():\n",
    "    return { 'peer': PeerType(PeerConfig,   {BaseConnectionManager: None,\n",
    "                                             AccountableGossip: GossipConfig,\n",
    "                                             LedgerNetterWorker: None,\n",
    "                                             CrawlerService: None,\n",
    "                                             ReputationService: None\n",
    "                                             }),\n",
    "             'client': PeerType(PeerConfig, (BaseConnectionManager,\n",
    "                                             AccountableMessageProducer,\n",
    "                                             LedgerNetterWorker,\n",
    "                                             CrawlerService\n",
    "                                             ))}\n",
    "\n",
    "def prepare_topology(num_peers=25, num_clients=1):    \n",
    "    # Create network topology\n",
    "    G = nx.erdos_renyi_graph(num_peers, 0.4)   \n",
    "    nx.relabel_nodes(G, {k: k+1 for k in G.nodes()} ,copy=False)\n",
    "    \n",
    "    # Connect the client node to a random peer\n",
    "    client_edges = [(i, choice(list(G.nodes())))\n",
    "                    for i in range(num_peers+1, num_clients+num_peers+1)]\n",
    "    G.add_edges_from(client_edges)\n",
    "\n",
    "    types_map = {k: 'peer' if k < num_peers+1 else 'client' for k in G.nodes()}\n",
    "    # Assign a peer type to the peers \n",
    "    nx.set_node_attributes(G, types_map , 'type')\n",
    "    return G\n",
    "\n",
    "def visualize_peer_client_network(G):\n",
    "    plt.figure(figsize=(10,10))\n",
    "\n",
    "    # Draw client/ peer network \n",
    "\n",
    "    master_nodes = [n for (n,ty) in \\\n",
    "        nx.get_node_attributes(G,'type').items() if ty == 'peer']\n",
    "    client_nodes = [n for (n,ty) in \\\n",
    "        nx.get_node_attributes(G,'type').items() if ty == 'client']\n",
    "\n",
    "    pos = nx.kamada_kawai_layout(G)\n",
    "\n",
    "    nx.draw_networkx_nodes(G, pos, nodelist=master_nodes,\n",
    "                           node_color='blue', node_shape='o',\n",
    "                           node_size=500)\n",
    "    nx.draw_networkx_nodes(G, pos, nodelist=client_nodes,\n",
    "                           node_color='green', node_shape='^',\n",
    "                           node_size=100, label=1)\n",
    "\n",
    "    nx.draw_networkx_labels(G, pos, labels={k:k for k in master_nodes},\n",
    "                            font_color='w')\n",
    "\n",
    "    nx.draw_networkx_edges(G, pos,\n",
    "                           edgelist=G.subgraph(master_nodes).edges(),\n",
    "                           width=1.5)\n",
    "    nx.draw_networkx_edges(G, pos,\n",
    "                           edgelist=G.edges(nbunch=client_nodes),\n",
    "                           style='dotted')\n",
    "\n"
   ]
  },
  {
   "cell_type": "code",
   "execution_count": 25,
   "outputs": [],
   "source": [
    "from p2psimpy.simulation import BaseSimulation\n",
    "\n",
    "#  logger_dir='new_log', enable_logger=True\n",
    "sim = BaseSimulation(Locations, prepare_topology(), prepare_peer_types())\n",
    "sim.run(11_000)\n"
   ],
   "metadata": {
    "collapsed": false,
    "pycharm": {
     "name": "#%%\n"
    }
   }
  },
  {
   "cell_type": "code",
   "execution_count": 4,
   "outputs": [
    {
     "data": {
      "text/plain": "defaultdict(float,\n            {'24': 8370.0,\n             '19': 7750.0,\n             '5': 9610.0,\n             '22': 6200.0,\n             '12': 6510.0,\n             '16': 4650.0,\n             '6': 5580.0,\n             '4': 7440.0,\n             '13': 8990.0,\n             '15': 8370.0})"
     },
     "execution_count": 4,
     "metadata": {},
     "output_type": "execute_result"
    }
   ],
   "source": [
    "sim.peers[1].counters.receive_counters"
   ],
   "metadata": {
    "collapsed": false,
    "pycharm": {
     "name": "#%%\n"
    }
   }
  },
  {
   "cell_type": "code",
   "execution_count": 21,
   "outputs": [
    {
     "data": {
      "text/plain": "{2000: {},\n 4000: {'10': -6.6,\n  '5': 0.0,\n  '1': 6.4,\n  '6': -8.2,\n  '25': -3.8,\n  '15': -1.8000000000000007,\n  '8': 3.8,\n  '21': 5.5,\n  '2': 0.7,\n  '9': 0.4,\n  '13': 0.8},\n 6000: {'10': -13.200000000000001,\n  '5': 0.0,\n  '1': 10.2,\n  '6': -28.099999999999998,\n  '25': -5.800000000000001,\n  '15': -18.4,\n  '8': 8.399999999999999,\n  '21': 17.3,\n  '2': 1.8,\n  '9': 0.6,\n  '13': 2.2,\n  '12': -2.1999999999999993},\n 8000: {'10': 5.300000000000001,\n  '5': 0.0,\n  '1': -8.200000000000003,\n  '6': -24.5,\n  '25': -21.0,\n  '15': -11.999999999999998,\n  '8': 21.0,\n  '21': 29.1,\n  '2': 1.5,\n  '9': 1.6,\n  '13': 1.4,\n  '12': -10.7,\n  '11': 3.4,\n  '7': 2.3,\n  '22': 2.7,\n  '24': 2.5},\n 10000: {'10': 13.799999999999999,\n  '5': 0.0,\n  '1': -24.299999999999997,\n  '6': -2.0,\n  '25': -27.2,\n  '15': -24.599999999999998,\n  '8': 29.5,\n  '21': 26.900000000000002,\n  '2': 3.5,\n  '9': 2.7,\n  '13': 2.7,\n  '12': -11.600000000000001,\n  '11': 3.5,\n  '7': 1.9,\n  '22': 2.4,\n  '24': 2.5,\n  '17': 3.6}}"
     },
     "execution_count": 21,
     "metadata": {},
     "output_type": "execute_result"
    }
   ],
   "source": [
    "sim.peers[5].storage['trust_store'].txs"
   ],
   "metadata": {
    "collapsed": false,
    "pycharm": {
     "name": "#%%\n"
    }
   }
  },
  {
   "cell_type": "code",
   "execution_count": 23,
   "outputs": [
    {
     "data": {
      "text/plain": "{2000: {},\n 4000: {'2': -15.799999999999999,\n  '1': 0.0,\n  '24': -3.5999999999999996,\n  '5': -14.2,\n  '7': -3.8,\n  '6': 0.0,\n  '13': -0.6000000000000001,\n  '17': -8.9,\n  '8': -12.9,\n  '22': 2.6,\n  '25': 1.1},\n 6000: {'2': -19.9,\n  '1': 0.0,\n  '24': -6.3999999999999995,\n  '5': -18.4,\n  '7': -13.7,\n  '6': 2.6,\n  '13': -1.4000000000000004,\n  '17': -13.8,\n  '8': -19.599999999999998,\n  '22': 5.299999999999999,\n  '25': -3.1999999999999997,\n  '11': 1.3000000000000007,\n  '9': 1.6,\n  '19': 1.6,\n  '4': 1.7},\n 8000: {'2': -13.399999999999999,\n  '1': 0.0,\n  '24': -15.299999999999999,\n  '5': -23.5,\n  '7': -11.8,\n  '6': 4.4,\n  '13': 1.0,\n  '17': -6.200000000000001,\n  '8': -12.900000000000002,\n  '22': -5.899999999999999,\n  '25': 0.6000000000000005,\n  '11': 19.1,\n  '9': 2.9,\n  '19': 2.7,\n  '4': 4.8},\n 10000: {'2': -20.4,\n  '1': 0.0,\n  '24': 1.6000000000000014,\n  '5': -16.699999999999996,\n  '7': -79.0,\n  '6': 5.9,\n  '13': 10.5,\n  '17': -17.5,\n  '8': -6.800000000000001,\n  '22': 4.600000000000001,\n  '25': -6.0,\n  '11': 16.5,\n  '9': 2.0,\n  '19': 3.0,\n  '4': 4.2,\n  '18': 1.8}}"
     },
     "execution_count": 23,
     "metadata": {},
     "output_type": "execute_result"
    }
   ],
   "source": [
    "sim.peers[1].storage['trust_store'].txs"
   ],
   "metadata": {
    "collapsed": false,
    "pycharm": {
     "name": "#%%\n"
    }
   }
  },
  {
   "cell_type": "code",
   "execution_count": null,
   "outputs": [],
   "source": [],
   "metadata": {
    "collapsed": false,
    "pycharm": {
     "name": "#%%\n"
    }
   }
  },
  {
   "cell_type": "code",
   "execution_count": null,
   "outputs": [],
   "source": [],
   "metadata": {
    "collapsed": false,
    "pycharm": {
     "name": "#%%\n"
    }
   }
  },
  {
   "cell_type": "code",
   "execution_count": 30,
   "outputs": [
    {
     "ename": "FileNotFoundError",
     "evalue": "[Errno 2] No such file or directory: 'dataset/wg_pPeer_25:peer.gel'",
     "output_type": "error",
     "traceback": [
      "\u001B[0;31m---------------------------------------------------------------------------\u001B[0m",
      "\u001B[0;31mFileNotFoundError\u001B[0m                         Traceback (most recent call last)",
      "\u001B[0;32m<ipython-input-30-af9b672f70c6>\u001B[0m in \u001B[0;36m<module>\u001B[0;34m\u001B[0m\n\u001B[1;32m      3\u001B[0m \u001B[0;34m\u001B[0m\u001B[0m\n\u001B[1;32m      4\u001B[0m \u001B[0;32mfor\u001B[0m \u001B[0mi\u001B[0m \u001B[0;32min\u001B[0m \u001B[0msim\u001B[0m\u001B[0;34m.\u001B[0m\u001B[0mpeers\u001B[0m\u001B[0;34m:\u001B[0m\u001B[0;34m\u001B[0m\u001B[0;34m\u001B[0m\u001B[0m\n\u001B[0;32m----> 5\u001B[0;31m     nx.write_edgelist(\n\u001B[0m\u001B[1;32m      6\u001B[0m         \u001B[0msim\u001B[0m\u001B[0;34m.\u001B[0m\u001B[0mpeers\u001B[0m\u001B[0;34m[\u001B[0m\u001B[0;36m1\u001B[0m\u001B[0;34m]\u001B[0m\u001B[0;34m.\u001B[0m\u001B[0mstorage\u001B[0m\u001B[0;34m[\u001B[0m\u001B[0;34m'work_graph'\u001B[0m\u001B[0;34m]\u001B[0m\u001B[0;34m.\u001B[0m\u001B[0mG\u001B[0m\u001B[0;34m,\u001B[0m\u001B[0;34m\u001B[0m\u001B[0;34m\u001B[0m\u001B[0m\n\u001B[1;32m      7\u001B[0m         \u001B[0;34m'dataset/wg_p'\u001B[0m\u001B[0;34m+\u001B[0m\u001B[0mstr\u001B[0m\u001B[0;34m(\u001B[0m\u001B[0msim\u001B[0m\u001B[0;34m.\u001B[0m\u001B[0mpeers\u001B[0m\u001B[0;34m[\u001B[0m\u001B[0mi\u001B[0m\u001B[0;34m]\u001B[0m\u001B[0;34m)\u001B[0m\u001B[0;34m+\u001B[0m\u001B[0;34m'.gel'\u001B[0m\u001B[0;34m\u001B[0m\u001B[0;34m\u001B[0m\u001B[0m\n",
      "\u001B[0;32m<decorator-gen-773>\u001B[0m in \u001B[0;36mwrite_edgelist\u001B[0;34m(G, path, comments, delimiter, data, encoding)\u001B[0m\n",
      "\u001B[0;32m~/.pyenv/versions/3.8.2/lib/python3.8/site-packages/networkx/utils/decorators.py\u001B[0m in \u001B[0;36m_open_file\u001B[0;34m(func_to_be_decorated, *args, **kwargs)\u001B[0m\n\u001B[1;32m    211\u001B[0m         \u001B[0;32mif\u001B[0m \u001B[0misinstance\u001B[0m\u001B[0;34m(\u001B[0m\u001B[0mpath\u001B[0m\u001B[0;34m,\u001B[0m \u001B[0mstr\u001B[0m\u001B[0;34m)\u001B[0m\u001B[0;34m:\u001B[0m\u001B[0;34m\u001B[0m\u001B[0;34m\u001B[0m\u001B[0m\n\u001B[1;32m    212\u001B[0m             \u001B[0mext\u001B[0m \u001B[0;34m=\u001B[0m \u001B[0msplitext\u001B[0m\u001B[0;34m(\u001B[0m\u001B[0mpath\u001B[0m\u001B[0;34m)\u001B[0m\u001B[0;34m[\u001B[0m\u001B[0;36m1\u001B[0m\u001B[0;34m]\u001B[0m\u001B[0;34m\u001B[0m\u001B[0;34m\u001B[0m\u001B[0m\n\u001B[0;32m--> 213\u001B[0;31m             \u001B[0mfobj\u001B[0m \u001B[0;34m=\u001B[0m \u001B[0m_dispatch_dict\u001B[0m\u001B[0;34m[\u001B[0m\u001B[0mext\u001B[0m\u001B[0;34m]\u001B[0m\u001B[0;34m(\u001B[0m\u001B[0mpath\u001B[0m\u001B[0;34m,\u001B[0m \u001B[0mmode\u001B[0m\u001B[0;34m=\u001B[0m\u001B[0mmode\u001B[0m\u001B[0;34m)\u001B[0m\u001B[0;34m\u001B[0m\u001B[0;34m\u001B[0m\u001B[0m\n\u001B[0m\u001B[1;32m    214\u001B[0m             \u001B[0mclose_fobj\u001B[0m \u001B[0;34m=\u001B[0m \u001B[0;32mTrue\u001B[0m\u001B[0;34m\u001B[0m\u001B[0;34m\u001B[0m\u001B[0m\n\u001B[1;32m    215\u001B[0m         \u001B[0;32melif\u001B[0m \u001B[0mhasattr\u001B[0m\u001B[0;34m(\u001B[0m\u001B[0mpath\u001B[0m\u001B[0;34m,\u001B[0m \u001B[0;34m\"read\"\u001B[0m\u001B[0;34m)\u001B[0m\u001B[0;34m:\u001B[0m\u001B[0;34m\u001B[0m\u001B[0;34m\u001B[0m\u001B[0m\n",
      "\u001B[0;31mFileNotFoundError\u001B[0m: [Errno 2] No such file or directory: 'dataset/wg_pPeer_25:peer.gel'"
     ]
    }
   ],
   "source": [
    "import networkx as nx\n",
    "\n",
    "\n",
    "for i in sim.peers:\n",
    "    nx.write_edgelist(\n",
    "        sim.peers[1].storage['work_graph'].G,\n",
    "        'datasets/wg_p'+str(sim.peers[i])+'.gel'\n",
    "    )\n"
   ],
   "metadata": {
    "collapsed": false,
    "pycharm": {
     "name": "#%%\n"
    }
   }
  },
  {
   "cell_type": "code",
   "execution_count": 12,
   "outputs": [
    {
     "data": {
      "text/plain": "{2000: {},\n 4000: {'6': 8.0,\n  '1': 0.0,\n  '26': -23.9,\n  '3': -3.4000000000000004,\n  '2': -7.6,\n  '11': -4.9,\n  '15': -3.8000000000000007,\n  '17': 3.999999999999999,\n  '14': 0.29999999999999893,\n  '9': -11.3,\n  '23': -5.3999999999999995,\n  '19': -1.299999999999999,\n  '5': 1.6,\n  '25': 1.8,\n  '20': 9.7},\n 6000: {'6': 21.3,\n  '1': 0.0,\n  '26': -58.8,\n  '3': 2.5999999999999996,\n  '2': -15.799999999999997,\n  '11': 6.6,\n  '15': -5.1,\n  '17': 15.7,\n  '14': 12.9,\n  '9': -23.9,\n  '23': -10.600000000000001,\n  '19': -10.6,\n  '5': 3.9,\n  '25': 4.2,\n  '20': 10.0},\n 8000: {'6': 19.200000000000003,\n  '1': 0.0,\n  '26': -82.8,\n  '3': 2.400000000000002,\n  '2': -9.000000000000004,\n  '11': 11.899999999999999,\n  '15': 13.6,\n  '17': 16.700000000000003,\n  '14': -12.600000000000001,\n  '9': -33.900000000000006,\n  '23': 0.1999999999999993,\n  '19': -3.8000000000000007,\n  '5': 2.9,\n  '25': 4.4,\n  '20': 12.599999999999998},\n 10000: {'6': 22.7,\n  '1': 0.0,\n  '26': -96.2,\n  '3': 25.6,\n  '2': 7.899999999999999,\n  '11': 31.9,\n  '15': 13.7,\n  '17': 29.7,\n  '14': 30.8,\n  '9': -135.7,\n  '23': -17.5,\n  '19': 1.6000000000000014,\n  '5': 5.4,\n  '25': 4.6,\n  '20': -16.599999999999998,\n  '21': 3.3}}"
     },
     "execution_count": 12,
     "metadata": {},
     "output_type": "execute_result"
    }
   ],
   "source": [
    "sim.peers[1].storage['trust_store'].txs"
   ],
   "metadata": {
    "collapsed": false,
    "pycharm": {
     "name": "#%%\n"
    }
   }
  },
  {
   "cell_type": "code",
   "execution_count": 26,
   "outputs": [
    {
     "name": "stdout",
     "output_type": "stream",
     "text": [
      "47\n",
      "41\n",
      "40\n",
      "35\n",
      "35\n"
     ]
    }
   ],
   "source": [
    "print(sim.peers[1].storage['work_graph'].G.number_of_edges())\n",
    "print(sim.peers[2].storage['work_graph'].G.number_of_edges())\n",
    "print(sim.peers[3].storage['work_graph'].G.number_of_edges())\n",
    "print(sim.peers[4].storage['work_graph'].G.number_of_edges())\n",
    "print(sim.peers[5].storage['work_graph'].G.number_of_edges())"
   ],
   "metadata": {
    "collapsed": false,
    "pycharm": {
     "name": "#%%\n"
    }
   }
  },
  {
   "cell_type": "code",
   "execution_count": 27,
   "outputs": [
    {
     "data": {
      "text/plain": "{25: Peer_25:peer,\n 24: Peer_24:peer,\n 23: Peer_23:peer,\n 22: Peer_22:peer,\n 21: Peer_21:peer,\n 20: Peer_20:peer,\n 19: Peer_19:peer,\n 18: Peer_18:peer,\n 17: Peer_17:peer,\n 16: Peer_16:peer,\n 15: Peer_15:peer,\n 14: Peer_14:peer,\n 13: Peer_13:peer,\n 12: Peer_12:peer,\n 11: Peer_11:peer,\n 10: Peer_10:peer,\n 9: Peer_9:peer,\n 8: Peer_8:peer,\n 7: Peer_7:peer,\n 6: Peer_6:peer,\n 5: Peer_5:peer,\n 4: Peer_4:peer,\n 3: Peer_3:peer,\n 2: Peer_2:peer,\n 1: Peer_1:peer,\n 26: Peer_26:client}"
     },
     "execution_count": 27,
     "metadata": {},
     "output_type": "execute_result"
    }
   ],
   "source": [
    "sim.peers"
   ],
   "metadata": {
    "collapsed": false,
    "pycharm": {
     "name": "#%%\n"
    }
   }
  },
  {
   "cell_type": "code",
   "execution_count": null,
   "outputs": [],
   "source": [
    "print(sim.peers[1].storage['work_graph'].G.number_of_edges())\n",
    "print(sim.peers[2].storage['work_graph'].G.number_of_edges())\n",
    "print(sim.peers[3].storage['work_graph'].G.number_of_edges())\n",
    "print(sim.peers[4].storage['work_graph'].G.number_of_edges())\n",
    "print(sim.peers[5].storage['work_graph'].G.number_of_edges())"
   ],
   "metadata": {
    "collapsed": false,
    "pycharm": {
     "name": "#%%\n"
    }
   }
  },
  {
   "cell_type": "code",
   "execution_count": null,
   "outputs": [],
   "source": [
    "print(sim.peers[1].storage['work_graph'].G.number_of_edges())\n",
    "print(sim.peers[2].storage['work_graph'].G.number_of_edges())\n",
    "print(sim.peers[3].storage['work_graph'].G.number_of_edges())\n",
    "print(sim.peers[4].storage['work_graph'].G.number_of_edges())\n",
    "print(sim.peers[5].storage['work_graph'].G.number_of_edges())"
   ],
   "metadata": {
    "collapsed": false,
    "pycharm": {
     "name": "#%%\n"
    }
   }
  },
  {
   "cell_type": "code",
   "execution_count": null,
   "outputs": [],
   "source": [
    "print(sim.peers[1].storage['work_graph'].G.number_of_edges())\n",
    "print(sim.peers[2].storage['work_graph'].G.number_of_edges())\n",
    "print(sim.peers[3].storage['work_graph'].G.number_of_edges())\n",
    "print(sim.peers[4].storage['work_graph'].G.number_of_edges())\n",
    "print(sim.peers[5].storage['work_graph'].G.number_of_edges())"
   ],
   "metadata": {
    "collapsed": false,
    "pycharm": {
     "name": "#%%\n"
    }
   }
  },
  {
   "cell_type": "code",
   "execution_count": null,
   "outputs": [],
   "source": [
    "G.number_of_edges()\n"
   ],
   "metadata": {
    "collapsed": false,
    "pycharm": {
     "name": "#%%\n"
    }
   }
  },
  {
   "cell_type": "markdown",
   "source": [
    "### How quick we converge\n",
    "\n",
    "*Convergance - $\\delta t$ to have $|E|$ nodes*\n",
    "\n",
    "- Random walk on ego network + Random 5 transactions on response + $500 ms$:\n",
    "  $50 s$, 100 rounds of crawling\n",
    "-"
   ],
   "metadata": {
    "collapsed": false,
    "pycharm": {
     "name": "#%% md\n"
    }
   }
  },
  {
   "cell_type": "markdown",
   "metadata": {
    "pycharm": {
     "name": "#%% md\n"
    }
   },
   "source": [
    "\n",
    "### Overlay enhancements\n",
    "1. **An accounting system**\n",
    "\n",
    "Count the messages bandwidth between the peers based on pairwise interaction.\n",
    "The peers exchange the counters and store their views together\n",
    "with signature.\n",
    "2. **Sampling algorithm**\n",
    "\n",
    "Sample the transactions from the network starting crawling the data\n",
    "from ego work graph. Sampling the transactions\n",
    "\n",
    "\n",
    "3. Reputation (Classification) algorithm\n",
    "4. Scheduling, Routing advices and Restructuring\n",
    "---\n",
    "- Handler to store the messages - with a graph structure\n",
    "- MessageProducer - interaction with a peer\n",
    "- Sampling - a runner to collect and put in the storage.\n",
    "- Reputation - a runner, periodically write a reputation scores.\n",
    "- Routing advices - handler for routing. A smart router.\n"
   ]
  },
  {
   "cell_type": "code",
   "execution_count": null,
   "metadata": {},
   "outputs": [],
   "source": []
  }
 ],
 "metadata": {
  "kernelspec": {
   "display_name": "Python 3",
   "language": "python",
   "name": "python3"
  },
  "language_info": {
   "codemirror_mode": {
    "name": "ipython",
    "version": 3
   },
   "file_extension": ".py",
   "mimetype": "text/x-python",
   "name": "python",
   "nbconvert_exporter": "python",
   "pygments_lexer": "ipython3",
   "version": "3.8.2"
  }
 },
 "nbformat": 4,
 "nbformat_minor": 4
}